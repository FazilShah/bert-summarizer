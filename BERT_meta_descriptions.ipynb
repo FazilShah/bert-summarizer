{
  "nbformat": 4,
  "nbformat_minor": 0,
  "metadata": {
    "colab": {
      "name": "BERT meta descriptions.ipynb",
      "provenance": [],
      "authorship_tag": "ABX9TyMDpxyjgzCjr/sC/6vQMg45",
      "include_colab_link": true
    },
    "kernelspec": {
      "name": "python3",
      "display_name": "Python 3"
    },
    "language_info": {
      "name": "python"
    }
  },
  "cells": [
    {
      "cell_type": "markdown",
      "metadata": {
        "id": "view-in-github",
        "colab_type": "text"
      },
      "source": [
        "<a href=\"https://colab.research.google.com/github/FazilShah/bert-summarizer/blob/main/BERT_meta_descriptions.ipynb\" target=\"_parent\"><img src=\"https://colab.research.google.com/assets/colab-badge.svg\" alt=\"Open In Colab\"/></a>"
      ]
    },
    {
      "cell_type": "code",
      "metadata": {
        "id": "NZQ1I-TYhP9c"
      },
      "source": [
        "pip install bert-extractive-summarizer"
      ],
      "execution_count": null,
      "outputs": []
    },
    {
      "cell_type": "code",
      "metadata": {
        "id": "ed4ZJpRAilgs"
      },
      "source": [
        "# let import some libraries\n",
        "import pandas as pd\n",
        "from summarizer import Summarizer\n",
        "from bs4 import BeautifulSoup\n",
        "import requests"
      ],
      "execution_count": 5,
      "outputs": []
    },
    {
      "cell_type": "code",
      "metadata": {
        "id": "_YTxJTCXizeU"
      },
      "source": [
        "# upload your url excel sheet.\n",
        "pages = pd.read_excel('your excel file.xlsx', sheet_name='excel file sheet name', header=0)"
      ],
      "execution_count": 6,
      "outputs": []
    },
    {
      "cell_type": "code",
      "metadata": {
        "id": "335q-Q3xjJ-X"
      },
      "source": [
        "# let's write a function to get the content of the pages.\n",
        "\n",
        "def scrap_url_content(url):\n",
        "  string = ''\n",
        "  page = requests.get(url, timeout=5)\n",
        "  page_object = BeautifulSoup(page.text, 'html.parser')\n",
        "  content = page_object.find_all('p')\n",
        "  for para in content:\n",
        "    new_string = para.get_text()\n",
        "    string = new_string + string\n",
        "  return string"
      ],
      "execution_count": 7,
      "outputs": []
    },
    {
      "cell_type": "code",
      "metadata": {
        "id": "gu8YFTdXjt3U"
      },
      "source": [
        "# Let's implement in BERT!\n",
        "\n",
        "pages.insert(1, 'Meta Description', 0)\n",
        "model = Summarizer()\n",
        "for i in range(10):\n",
        "  try:\n",
        "    content = scrap_url_content(pages.iloc[i,0])\n",
        "  except: pass\n",
        "  result = model(content, max_length= 160)\n",
        "  full = ''.join(result)\n",
        "  pages.iloc[i,1] = full"
      ],
      "execution_count": null,
      "outputs": []
    },
    {
      "cell_type": "code",
      "metadata": {
        "id": "v0PS28bKlQB5"
      },
      "source": [
        "#lets get data in excel sheet\n",
        "\n",
        "pages.to_excel('final result.xlsx')"
      ],
      "execution_count": 9,
      "outputs": []
    }
  ]
}